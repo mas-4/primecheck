{
 "cells": [
  {
   "cell_type": "code",
   "execution_count": 3,
   "id": "25fc2f7e-0daa-45d8-9203-4d7dfd0d7a75",
   "metadata": {},
   "outputs": [],
   "source": [
    "import pandas as pd\n",
    "import numpy as np\n",
    "from sympy import isprime\n",
    "import matplotlib.pyplot as plt"
   ]
  },
  {
   "cell_type": "code",
   "execution_count": 6,
   "id": "16765afc-9e27-4c93-833e-85a296740e97",
   "metadata": {},
   "outputs": [],
   "source": [
    "def π(x):\n",
    "    if x <= 1:\n",
    "        return 0\n",
    "    if x == 2:\n",
    "        return 1\n",
    "    start = 3\n",
    "    pi = 1\n",
    "    for i in range(start,x+1,2):\n",
    "        pi+=isprime(i)\n",
    "    return pi"
   ]
  },
  {
   "cell_type": "code",
   "execution_count": 9,
   "id": "075589de-6d2c-4db9-ab9b-c3365407b6e0",
   "metadata": {},
   "outputs": [
    {
     "name": "stdout",
     "output_type": "stream",
     "text": [
      "5\n",
      "5\n",
      "2\n"
     ]
    }
   ],
   "source": [
    "# 2, 3, 5, 7, 11\n",
    "print(π(12))\n",
    "print(π(11))\n",
    "# 2,3\n",
    "print(π(3))"
   ]
  },
  {
   "cell_type": "code",
   "execution_count": 12,
   "id": "544aa871-da34-4237-9a2e-66d0392c0041",
   "metadata": {},
   "outputs": [],
   "source": [
    "last = 2\n",
    "start = 3\n",
    "count = 1\n",
    "# prime, lastprime, π(prime), prime - lastprime\n",
    "data = [(2,0,1,0)]\n",
    "for i in range(start, 100000, 2):\n",
    "    p = isprime(i)\n",
    "    count += p\n",
    "    if isprime(i):\n",
    "        data.append((i,last,count, i-last))\n",
    "        last = i"
   ]
  },
  {
   "cell_type": "code",
   "execution_count": 16,
   "id": "ffe9e5ee-2941-4ce6-84ad-f8ce0bdda782",
   "metadata": {},
   "outputs": [
    {
     "data": {
      "text/plain": [
       "9592"
      ]
     },
     "execution_count": 16,
     "metadata": {},
     "output_type": "execute_result"
    }
   ],
   "source": [
    "len(data)"
   ]
  },
  {
   "cell_type": "code",
   "execution_count": 20,
   "id": "316db8fe-44b4-4a2c-924f-00375316ad93",
   "metadata": {},
   "outputs": [],
   "source": [
    "df = pd.DataFrame(data, columns=['p', 'last', 'π', 'distance'])"
   ]
  },
  {
   "cell_type": "code",
   "execution_count": 22,
   "id": "f9350b4d-438a-417f-b9d8-f3f3dfac0599",
   "metadata": {},
   "outputs": [
    {
     "data": {
      "text/plain": [
       "<matplotlib.collections.PathCollection at 0x7efc47d6c670>"
      ]
     },
     "execution_count": 22,
     "metadata": {},
     "output_type": "execute_result"
    },
    {
     "data": {
      "image/png": "[encoded data removed]",
      "text/plain": [
       "<Figure size 432x288 with 1 Axes>"
      ]
     },
     "metadata": {
      "needs_background": "light"
     },
     "output_type": "display_data"
    }
   ],
   "source": [
    "plt.scatter(x=df.p,y=df.distance)"
   ]
  }
 ],
 "metadata": {
  "kernelspec": {
   "display_name": "Python 3 (ipykernel)",
   "language": "python",
   "name": "python3"
  },
  "language_info": {
   "codemirror_mode": {
    "name": "ipython",
    "version": 3
   },
   "file_extension": ".py",
   "mimetype": "text/x-python",
   "name": "python",
   "nbconvert_exporter": "python",
   "pygments_lexer": "ipython3",
   "version": "3.9.6"
  }
 },
 "nbformat": 4,
 "nbformat_minor": 5
}
