{
 "cells": [
  {
   "cell_type": "code",
   "execution_count": 7,
   "id": "0f895e04",
   "metadata": {},
   "outputs": [],
   "source": [
    "from primelib import *\n",
    "import matplotlib.pyplot as plt\n",
    "import seaborn as sns"
   ]
  },
  {
   "cell_type": "code",
   "execution_count": 15,
   "id": "38d33a6d",
   "metadata": {
    "collapsed": true
   },
   "outputs": [],
   "source": [
    "hmilgaps = pgap(100000000)"
   ]
  },
  {
   "cell_type": "code",
   "execution_count": 17,
   "id": "641dd1a9",
   "metadata": {},
   "outputs": [
    {
     "data": {
      "text/plain": [
       "220"
      ]
     },
     "execution_count": 17,
     "metadata": {},
     "output_type": "execute_result"
    }
   ],
   "source": [
    "max(hmilgaps)"
   ]
  },
  {
   "cell_type": "code",
   "execution_count": 21,
   "id": "dbc42d80",
   "metadata": {},
   "outputs": [
    {
     "data": {
      "text/plain": [
       "array([1, 2, 2, ..., 2, 1, 8])"
      ]
     },
     "execution_count": 21,
     "metadata": {},
     "output_type": "execute_result"
    }
   ],
   "source": [
    "gapdigits = np.array(list(''.join(str(i) for i in hmilgaps)), dtype=int)\n",
    "gapdigits"
   ]
  },
  {
   "cell_type": "code",
   "execution_count": 22,
   "id": "eede3d16",
   "metadata": {},
   "outputs": [
    {
     "data": {
      "text/plain": [
       "<AxesSubplot:ylabel='Count'>"
      ]
     },
     "execution_count": 22,
     "metadata": {},
     "output_type": "execute_result"
    },
    {
     "data": {
      "image/png": "[encoded data removed]",
      "text/plain": [
       "<Figure size 432x288 with 1 Axes>"
      ]
     },
     "metadata": {
      "needs_background": "light"
     },
     "output_type": "display_data"
    }
   ],
   "source": [
    "sns.histplot(gapdigits)"
   ]
  },
  {
   "cell_type": "code",
   "execution_count": 24,
   "id": "5656faac",
   "metadata": {},
   "outputs": [],
   "source": [
    "gapdigits.sort()"
   ]
  },
  {
   "cell_type": "code",
   "execution_count": 25,
   "id": "afcacee2",
   "metadata": {},
   "outputs": [
    {
     "data": {
      "text/plain": [
       "<AxesSubplot:ylabel='Count'>"
      ]
     },
     "execution_count": 25,
     "metadata": {},
     "output_type": "execute_result"
    },
    {
     "data": {
      "image/png": "[encoded data removed]",
      "text/plain": [
       "<Figure size 432x288 with 1 Axes>"
      ]
     },
     "metadata": {
      "needs_background": "light"
     },
     "output_type": "display_data"
    }
   ],
   "source": [
    "sns.histplot(gapdigits)"
   ]
  },
  {
   "cell_type": "code",
   "execution_count": 27,
   "id": "fe406430",
   "metadata": {},
   "outputs": [],
   "source": [
    "gapdict = {i:0 for i in range(10)}\n",
    "\n",
    "for gap in gapdigits:\n",
    "    gapdict[gap]+=1"
   ]
  },
  {
   "cell_type": "code",
   "execution_count": 28,
   "id": "72fb372f",
   "metadata": {},
   "outputs": [
    {
     "data": {
      "text/plain": [
       "{0: 993445,\n",
       " 1: 1870715,\n",
       " 2: 2238708,\n",
       " 3: 528563,\n",
       " 4: 1412379,\n",
       " 5: 113019,\n",
       " 6: 1354829,\n",
       " 7: 31971,\n",
       " 8: 994823,\n",
       " 9: 7885}"
      ]
     },
     "execution_count": 28,
     "metadata": {},
     "output_type": "execute_result"
    }
   ],
   "source": [
    "gapdict"
   ]
  },
  {
   "cell_type": "code",
   "execution_count": 29,
   "id": "44f6360b",
   "metadata": {},
   "outputs": [
    {
     "data": {
      "text/plain": [
       "[(0, 993445),\n",
       " (1, 1870715),\n",
       " (2, 2238708),\n",
       " (3, 528563),\n",
       " (4, 1412379),\n",
       " (5, 113019),\n",
       " (6, 1354829),\n",
       " (7, 31971),\n",
       " (8, 994823),\n",
       " (9, 7885)]"
      ]
     },
     "execution_count": 29,
     "metadata": {},
     "output_type": "execute_result"
    }
   ],
   "source": [
    "gaptup = [(k, v) for k, v in gapdict.items()]\n",
    "gaptup"
   ]
  },
  {
   "cell_type": "code",
   "execution_count": 31,
   "id": "f96f1d26",
   "metadata": {},
   "outputs": [],
   "source": [
    "gaptup.sort(key=lambda g: g[-1])"
   ]
  },
  {
   "cell_type": "code",
   "execution_count": 32,
   "id": "5fbeb390",
   "metadata": {},
   "outputs": [
    {
     "data": {
      "text/plain": [
       "[(9, 7885),\n",
       " (7, 31971),\n",
       " (5, 113019),\n",
       " (3, 528563),\n",
       " (0, 993445),\n",
       " (8, 994823),\n",
       " (6, 1354829),\n",
       " (4, 1412379),\n",
       " (1, 1870715),\n",
       " (2, 2238708)]"
      ]
     },
     "execution_count": 32,
     "metadata": {},
     "output_type": "execute_result"
    }
   ],
   "source": [
    "gaptup"
   ]
  },
  {
   "cell_type": "code",
   "execution_count": 34,
   "id": "8232e286",
   "metadata": {},
   "outputs": [
    {
     "ename": "NameError",
     "evalue": "name 'gapdic2' is not defined",
     "output_type": "error",
     "traceback": [
      "\u001b[0;31m---------------------------------------------------------------------------\u001b[0m",
      "\u001b[0;31mNameError\u001b[0m                                 Traceback (most recent call last)",
      "\u001b[0;32m/tmp/ipykernel_28519/2789260849.py\u001b[0m in \u001b[0;36m<module>\u001b[0;34m\u001b[0m\n\u001b[1;32m      5\u001b[0m     \u001b[0;32melse\u001b[0m\u001b[0;34m:\u001b[0m\u001b[0;34m\u001b[0m\u001b[0;34m\u001b[0m\u001b[0m\n\u001b[1;32m      6\u001b[0m         \u001b[0mgapdict2\u001b[0m\u001b[0;34m[\u001b[0m\u001b[0mg\u001b[0m\u001b[0;34m]\u001b[0m \u001b[0;34m=\u001b[0m \u001b[0;36m1\u001b[0m\u001b[0;34m\u001b[0m\u001b[0;34m\u001b[0m\u001b[0m\n\u001b[0;32m----> 7\u001b[0;31m \u001b[0mgapdic2\u001b[0m\u001b[0;34m\u001b[0m\u001b[0;34m\u001b[0m\u001b[0m\n\u001b[0m",
      "\u001b[0;31mNameError\u001b[0m: name 'gapdic2' is not defined"
     ]
    }
   ],
   "source": [
    "gapdict2 = {}\n",
    "for g in hmilgaps:\n",
    "    if g in gapdict2:\n",
    "        gapdict2[g] +=1\n",
    "    else:\n",
    "        gapdict2[g] = 1\n",
    "gapdic2"
   ]
  },
  {
   "cell_type": "code",
   "execution_count": 35,
   "id": "49be9850",
   "metadata": {},
   "outputs": [
    {
     "data": {
      "text/plain": [
       "{1: 1,\n",
       " 2: 440312,\n",
       " 4: 440257,\n",
       " 6: 768752,\n",
       " 8: 334180,\n",
       " 14: 293201,\n",
       " 10: 430016,\n",
       " 12: 538382,\n",
       " 18: 384738,\n",
       " 20: 202922,\n",
       " 22: 175945,\n",
       " 34: 71248,\n",
       " 24: 257548,\n",
       " 16: 215804,\n",
       " 26: 119465,\n",
       " 28: 129567,\n",
       " 30: 222847,\n",
       " 32: 68291,\n",
       " 36: 114028,\n",
       " 44: 34881,\n",
       " 42: 86637,\n",
       " 40: 60761,\n",
       " 52: 20595,\n",
       " 48: 49824,\n",
       " 38: 51756,\n",
       " 72: 8453,\n",
       " 50: 27522,\n",
       " 62: 8496,\n",
       " 54: 33593,\n",
       " 60: 28439,\n",
       " 58: 14611,\n",
       " 46: 29327,\n",
       " 56: 16595,\n",
       " 64: 8823,\n",
       " 68: 6200,\n",
       " 86: 1597,\n",
       " 66: 15579,\n",
       " 70: 8813,\n",
       " 78: 6790,\n",
       " 76: 3580,\n",
       " 82: 2362,\n",
       " 96: 1641,\n",
       " 112: 330,\n",
       " 100: 878,\n",
       " 74: 4316,\n",
       " 90: 3337,\n",
       " 84: 4668,\n",
       " 114: 487,\n",
       " 80: 3281,\n",
       " 88: 1637,\n",
       " 98: 851,\n",
       " 92: 1083,\n",
       " 106: 404,\n",
       " 94: 971,\n",
       " 118: 181,\n",
       " 132: 132,\n",
       " 104: 494,\n",
       " 102: 1059,\n",
       " 110: 454,\n",
       " 126: 204,\n",
       " 120: 433,\n",
       " 148: 34,\n",
       " 108: 711,\n",
       " 122: 131,\n",
       " 138: 93,\n",
       " 128: 76,\n",
       " 154: 13,\n",
       " 130: 78,\n",
       " 116: 191,\n",
       " 146: 22,\n",
       " 136: 40,\n",
       " 124: 145,\n",
       " 134: 50,\n",
       " 140: 57,\n",
       " 152: 20,\n",
       " 142: 30,\n",
       " 144: 51,\n",
       " 150: 37,\n",
       " 180: 4,\n",
       " 156: 23,\n",
       " 164: 5,\n",
       " 210: 2,\n",
       " 170: 6,\n",
       " 160: 11,\n",
       " 182: 1,\n",
       " 168: 8,\n",
       " 176: 5,\n",
       " 172: 1,\n",
       " 162: 8,\n",
       " 178: 4,\n",
       " 198: 1,\n",
       " 220: 1,\n",
       " 158: 10,\n",
       " 174: 3,\n",
       " 196: 1,\n",
       " 184: 1,\n",
       " 166: 1}"
      ]
     },
     "execution_count": 35,
     "metadata": {},
     "output_type": "execute_result"
    }
   ],
   "source": [
    "gapdict2"
   ]
  },
  {
   "cell_type": "code",
   "execution_count": 41,
   "id": "ce0779ad",
   "metadata": {},
   "outputs": [
    {
     "data": {
      "text/plain": [
       "[1,\n",
       " 2,\n",
       " 4,\n",
       " 6,\n",
       " 8,\n",
       " 10,\n",
       " 12,\n",
       " 14,\n",
       " 16,\n",
       " 18,\n",
       " 20,\n",
       " 22,\n",
       " 24,\n",
       " 26,\n",
       " 28,\n",
       " 30,\n",
       " 32,\n",
       " 34,\n",
       " 36,\n",
       " 38,\n",
       " 40,\n",
       " 42,\n",
       " 44,\n",
       " 46,\n",
       " 48,\n",
       " 50,\n",
       " 52,\n",
       " 54,\n",
       " 56,\n",
       " 58,\n",
       " 60,\n",
       " 62,\n",
       " 64,\n",
       " 66,\n",
       " 68,\n",
       " 70,\n",
       " 72,\n",
       " 74,\n",
       " 76,\n",
       " 78,\n",
       " 80,\n",
       " 82,\n",
       " 84,\n",
       " 86,\n",
       " 88,\n",
       " 90,\n",
       " 92,\n",
       " 94,\n",
       " 96,\n",
       " 98,\n",
       " 100,\n",
       " 102,\n",
       " 104,\n",
       " 106,\n",
       " 108,\n",
       " 110,\n",
       " 112,\n",
       " 114,\n",
       " 116,\n",
       " 118,\n",
       " 120,\n",
       " 122,\n",
       " 124,\n",
       " 126,\n",
       " 128,\n",
       " 130,\n",
       " 132,\n",
       " 134,\n",
       " 136,\n",
       " 138,\n",
       " 140,\n",
       " 142,\n",
       " 144,\n",
       " 146,\n",
       " 148,\n",
       " 150,\n",
       " 152,\n",
       " 154,\n",
       " 156,\n",
       " 158,\n",
       " 160,\n",
       " 162,\n",
       " 164,\n",
       " 166,\n",
       " 168,\n",
       " 170,\n",
       " 172,\n",
       " 174,\n",
       " 176,\n",
       " 178,\n",
       " 180,\n",
       " 182,\n",
       " 184,\n",
       " 196,\n",
       " 198,\n",
       " 210,\n",
       " 220]"
      ]
     },
     "execution_count": 41,
     "metadata": {},
     "output_type": "execute_result"
    }
   ],
   "source": [
    "gaplist = list(gapdict2.keys())\n",
    "gaplist.sort()\n",
    "gaplist"
   ]
  },
  {
   "cell_type": "code",
   "execution_count": 43,
   "id": "136d78c6",
   "metadata": {},
   "outputs": [
    {
     "name": "stdout",
     "output_type": "stream",
     "text": [
      "1000003\n"
     ]
    }
   ],
   "source": [
    "i = 1000001\n",
    "while True:\n",
    "    if isprime(i):\n",
    "        print(i)\n",
    "        break\n",
    "    i += 2\n"
   ]
  }
 ],
 "metadata": {
  "kernelspec": {
   "display_name": "Python 3 (ipykernel)",
   "language": "python",
   "name": "python3"
  },
  "language_info": {
   "codemirror_mode": {
    "name": "ipython",
    "version": 3
   },
   "file_extension": ".py",
   "mimetype": "text/x-python",
   "name": "python",
   "nbconvert_exporter": "python",
   "pygments_lexer": "ipython3",
   "version": "3.9.7"
  }
 },
 "nbformat": 4,
 "nbformat_minor": 5
}
